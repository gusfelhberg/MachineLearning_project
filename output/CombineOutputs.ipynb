{
 "cells": [
  {
   "cell_type": "code",
   "execution_count": 1,
   "metadata": {
    "collapsed": true
   },
   "outputs": [],
   "source": [
    "import pandas as pd"
   ]
  },
  {
   "cell_type": "code",
   "execution_count": 40,
   "metadata": {
    "collapsed": true
   },
   "outputs": [],
   "source": [
    "file1 = pd.read_csv('Gprep-xgb-default.csv')\n",
    "file2 = pd.read_csv('linear_discriminant_two.csv')\n",
    "file3 = pd.read_csv('logit-regression-ag.csv')\n",
    "file4 = pd.read_csv('Output_Adaboost_python.csv')\n",
    "file5 = pd.read_csv('Output_RandomForest.csv')"
   ]
  },
  {
   "cell_type": "code",
   "execution_count": 41,
   "metadata": {},
   "outputs": [],
   "source": [
    "consolidated = pd.concat([file1,file2.target,file3.target,file4.target,file5.target],axis=1)"
   ]
  },
  {
   "cell_type": "code",
   "execution_count": 42,
   "metadata": {},
   "outputs": [],
   "source": [
    "consolidated.columns=['id','target1','target2','target3','target4','target5']"
   ]
  },
  {
   "cell_type": "code",
   "execution_count": 43,
   "metadata": {},
   "outputs": [
    {
     "data": {
      "text/html": [
       "<div>\n",
       "<style>\n",
       "    .dataframe thead tr:only-child th {\n",
       "        text-align: right;\n",
       "    }\n",
       "\n",
       "    .dataframe thead th {\n",
       "        text-align: left;\n",
       "    }\n",
       "\n",
       "    .dataframe tbody tr th {\n",
       "        vertical-align: top;\n",
       "    }\n",
       "</style>\n",
       "<table border=\"1\" class=\"dataframe\">\n",
       "  <thead>\n",
       "    <tr style=\"text-align: right;\">\n",
       "      <th></th>\n",
       "      <th>id</th>\n",
       "      <th>target1</th>\n",
       "      <th>target2</th>\n",
       "      <th>target3</th>\n",
       "      <th>target4</th>\n",
       "      <th>target5</th>\n",
       "    </tr>\n",
       "  </thead>\n",
       "  <tbody>\n",
       "    <tr>\n",
       "      <th>0</th>\n",
       "      <td>0</td>\n",
       "      <td>0.067141</td>\n",
       "      <td>0.069199</td>\n",
       "      <td>0.029488</td>\n",
       "      <td>0.061041</td>\n",
       "      <td>0.133641</td>\n",
       "    </tr>\n",
       "    <tr>\n",
       "      <th>1</th>\n",
       "      <td>1</td>\n",
       "      <td>0.129683</td>\n",
       "      <td>0.076851</td>\n",
       "      <td>0.037581</td>\n",
       "      <td>0.086839</td>\n",
       "      <td>0.096774</td>\n",
       "    </tr>\n",
       "    <tr>\n",
       "      <th>2</th>\n",
       "      <td>2</td>\n",
       "      <td>0.079207</td>\n",
       "      <td>0.071369</td>\n",
       "      <td>0.026179</td>\n",
       "      <td>0.097693</td>\n",
       "      <td>0.057604</td>\n",
       "    </tr>\n",
       "    <tr>\n",
       "      <th>3</th>\n",
       "      <td>3</td>\n",
       "      <td>0.077450</td>\n",
       "      <td>0.053108</td>\n",
       "      <td>0.019950</td>\n",
       "      <td>0.061041</td>\n",
       "      <td>0.062212</td>\n",
       "    </tr>\n",
       "    <tr>\n",
       "      <th>4</th>\n",
       "      <td>4</td>\n",
       "      <td>0.072765</td>\n",
       "      <td>0.084085</td>\n",
       "      <td>0.035306</td>\n",
       "      <td>0.097693</td>\n",
       "      <td>0.306452</td>\n",
       "    </tr>\n",
       "  </tbody>\n",
       "</table>\n",
       "</div>"
      ],
      "text/plain": [
       "   id   target1   target2   target3   target4   target5\n",
       "0   0  0.067141  0.069199  0.029488  0.061041  0.133641\n",
       "1   1  0.129683  0.076851  0.037581  0.086839  0.096774\n",
       "2   2  0.079207  0.071369  0.026179  0.097693  0.057604\n",
       "3   3  0.077450  0.053108  0.019950  0.061041  0.062212\n",
       "4   4  0.072765  0.084085  0.035306  0.097693  0.306452"
      ]
     },
     "execution_count": 43,
     "metadata": {},
     "output_type": "execute_result"
    }
   ],
   "source": [
    "consolidated.head()"
   ]
  },
  {
   "cell_type": "code",
   "execution_count": 44,
   "metadata": {},
   "outputs": [],
   "source": [
    "num_of_files = 5"
   ]
  },
  {
   "cell_type": "code",
   "execution_count": 45,
   "metadata": {},
   "outputs": [],
   "source": [
    "consolidated['target'] = ( consolidated.target1 + \\\n",
    "                        consolidated.target2 + \\\n",
    "                        consolidated.target3 + \\\n",
    "                        consolidated.target4 + \\\n",
    "                        consolidated.target5 ) / num_of_files"
   ]
  },
  {
   "cell_type": "code",
   "execution_count": 46,
   "metadata": {},
   "outputs": [
    {
     "data": {
      "text/html": [
       "<div>\n",
       "<style>\n",
       "    .dataframe thead tr:only-child th {\n",
       "        text-align: right;\n",
       "    }\n",
       "\n",
       "    .dataframe thead th {\n",
       "        text-align: left;\n",
       "    }\n",
       "\n",
       "    .dataframe tbody tr th {\n",
       "        vertical-align: top;\n",
       "    }\n",
       "</style>\n",
       "<table border=\"1\" class=\"dataframe\">\n",
       "  <thead>\n",
       "    <tr style=\"text-align: right;\">\n",
       "      <th></th>\n",
       "      <th>id</th>\n",
       "      <th>target1</th>\n",
       "      <th>target2</th>\n",
       "      <th>target3</th>\n",
       "      <th>target4</th>\n",
       "      <th>target5</th>\n",
       "      <th>target</th>\n",
       "    </tr>\n",
       "  </thead>\n",
       "  <tbody>\n",
       "    <tr>\n",
       "      <th>0</th>\n",
       "      <td>0</td>\n",
       "      <td>0.067141</td>\n",
       "      <td>0.069199</td>\n",
       "      <td>0.029488</td>\n",
       "      <td>0.061041</td>\n",
       "      <td>0.133641</td>\n",
       "      <td>0.072102</td>\n",
       "    </tr>\n",
       "    <tr>\n",
       "      <th>1</th>\n",
       "      <td>1</td>\n",
       "      <td>0.129683</td>\n",
       "      <td>0.076851</td>\n",
       "      <td>0.037581</td>\n",
       "      <td>0.086839</td>\n",
       "      <td>0.096774</td>\n",
       "      <td>0.085546</td>\n",
       "    </tr>\n",
       "    <tr>\n",
       "      <th>2</th>\n",
       "      <td>2</td>\n",
       "      <td>0.079207</td>\n",
       "      <td>0.071369</td>\n",
       "      <td>0.026179</td>\n",
       "      <td>0.097693</td>\n",
       "      <td>0.057604</td>\n",
       "      <td>0.066411</td>\n",
       "    </tr>\n",
       "    <tr>\n",
       "      <th>3</th>\n",
       "      <td>3</td>\n",
       "      <td>0.077450</td>\n",
       "      <td>0.053108</td>\n",
       "      <td>0.019950</td>\n",
       "      <td>0.061041</td>\n",
       "      <td>0.062212</td>\n",
       "      <td>0.054752</td>\n",
       "    </tr>\n",
       "    <tr>\n",
       "      <th>4</th>\n",
       "      <td>4</td>\n",
       "      <td>0.072765</td>\n",
       "      <td>0.084085</td>\n",
       "      <td>0.035306</td>\n",
       "      <td>0.097693</td>\n",
       "      <td>0.306452</td>\n",
       "      <td>0.119260</td>\n",
       "    </tr>\n",
       "  </tbody>\n",
       "</table>\n",
       "</div>"
      ],
      "text/plain": [
       "   id   target1   target2   target3   target4   target5    target\n",
       "0   0  0.067141  0.069199  0.029488  0.061041  0.133641  0.072102\n",
       "1   1  0.129683  0.076851  0.037581  0.086839  0.096774  0.085546\n",
       "2   2  0.079207  0.071369  0.026179  0.097693  0.057604  0.066411\n",
       "3   3  0.077450  0.053108  0.019950  0.061041  0.062212  0.054752\n",
       "4   4  0.072765  0.084085  0.035306  0.097693  0.306452  0.119260"
      ]
     },
     "execution_count": 46,
     "metadata": {},
     "output_type": "execute_result"
    }
   ],
   "source": [
    "consolidated.head()"
   ]
  },
  {
   "cell_type": "code",
   "execution_count": 47,
   "metadata": {},
   "outputs": [],
   "source": [
    "consolidated[['id','target']].to_csv('combinedOutputs.csv',index=None)"
   ]
  },
  {
   "cell_type": "code",
   "execution_count": null,
   "metadata": {
    "collapsed": true
   },
   "outputs": [],
   "source": []
  }
 ],
 "metadata": {
  "kernelspec": {
   "display_name": "Python 3",
   "language": "python",
   "name": "python3"
  },
  "language_info": {
   "codemirror_mode": {
    "name": "ipython",
    "version": 3
   },
   "file_extension": ".py",
   "mimetype": "text/x-python",
   "name": "python",
   "nbconvert_exporter": "python",
   "pygments_lexer": "ipython3",
   "version": "3.6.2"
  }
 },
 "nbformat": 4,
 "nbformat_minor": 2
}
